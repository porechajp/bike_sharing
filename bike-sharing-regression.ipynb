{
 "cells": [
  {
   "cell_type": "markdown",
   "id": "8cfc3ebd-f36a-4be2-b252-8fc53f84acf4",
   "metadata": {},
   "source": [
    "# Bike Sharing Assignment\n",
    "\n",
    "In this notebook we are going to analyze the data given in data/day.csv from linear regression perspective. The end goal is to build multiple linear regression model for the target variable \"cnt\"."
   ]
  },
  {
   "cell_type": "code",
   "execution_count": null,
   "id": "e1b22df9-26ab-4001-b5d2-93b633ccb2d8",
   "metadata": {},
   "outputs": [],
   "source": [
    "#importing the libraries\n",
    "import pandas as pd\n",
    "import numpy as np\n",
    "import matplotlib.pyplot as plt\n",
    "import seaborn as sns\n",
    "import statsmodels\n",
    "import statsmodels.api as sm\n",
    "from statsmodels.stats.outliers_influence import variance_inflation_factor\n",
    "import sklearn\n",
    "from sklearn.model_selection import train_test_split\n",
    "from sklearn.metrics import mean_squared_error\n",
    "from sklearn.metrics import r2_score\n",
    "from sklearn.linear_model import LinearRegression\n",
    "from sklearn.preprocessing import MinMaxScaler"
   ]
  },
  {
   "cell_type": "code",
   "execution_count": null,
   "id": "36d729ad-cadd-4e1c-8de7-8bea9ae95991",
   "metadata": {},
   "outputs": [],
   "source": []
  }
 ],
 "metadata": {
  "kernelspec": {
   "display_name": "Python 3 (ipykernel)",
   "language": "python",
   "name": "python3"
  },
  "language_info": {
   "codemirror_mode": {
    "name": "ipython",
    "version": 3
   },
   "file_extension": ".py",
   "mimetype": "text/x-python",
   "name": "python",
   "nbconvert_exporter": "python",
   "pygments_lexer": "ipython3",
   "version": "3.10.12"
  }
 },
 "nbformat": 4,
 "nbformat_minor": 5
}
